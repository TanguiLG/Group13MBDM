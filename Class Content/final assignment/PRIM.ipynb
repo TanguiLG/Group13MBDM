{
 "cells": [
  {
   "cell_type": "code",
   "id": "initial_id",
   "metadata": {
    "collapsed": true,
    "ExecuteTime": {
     "end_time": "2025-06-17T13:30:05.205574Z",
     "start_time": "2025-06-17T13:30:02.136800Z"
    }
   },
   "source": [
    "import pandas as pd\n",
    "import networkx as nx\n",
    "import numpy as np\n",
    "import matplotlib.pyplot as plt\n",
    "import seaborn as sns\n",
    "import copy\n",
    "from problem_formulation import get_model_for_problem_formulation\n",
    "from ema_workbench import (\n",
    "    Policy,\n",
    "    ema_logging,\n",
    "    MultiprocessingEvaluator,\n",
    ")"
   ],
   "outputs": [],
   "execution_count": 1
  },
  {
   "metadata": {
    "ExecuteTime": {
     "end_time": "2025-06-17T13:30:25.755392Z",
     "start_time": "2025-06-17T13:30:24.661670Z"
    }
   },
   "cell_type": "code",
   "source": [
    "ema_logging.log_to_stderr(ema_logging.INFO)\n",
    "\n",
    "# choose problem formulation number, between 0-5\n",
    "# each problem formulation has its own list of outcomes\n",
    "dike_model, planning_steps = get_model_for_problem_formulation(3)\n",
    "\n",
    "uncertainties = copy.deepcopy(dike_model.uncertainties)\n",
    "levers = copy.deepcopy(dike_model.levers)"
   ],
   "id": "e0bafb1bd11bae66",
   "outputs": [],
   "execution_count": 2
  },
  {
   "metadata": {
    "ExecuteTime": {
     "end_time": "2025-06-17T13:30:42.560229Z",
     "start_time": "2025-06-17T13:30:42.548150Z"
    }
   },
   "cell_type": "code",
   "source": [
    "def get_do_nothing_dict():\n",
    "    return {l.name: 0 for l in dike_model.levers}\n",
    "\n",
    "\n",
    "policies = [\n",
    "    Policy(\n",
    "        \"policy 1\",\n",
    "        **dict(\n",
    "            get_do_nothing_dict(),\n",
    "            **{\"0_RfR 0\": 1, \"0_RfR 1\": 1, \"0_RfR 2\": 1, \"A.1_DikeIncrease 0\": 5}\n",
    "        )\n",
    "    ),\n",
    "    Policy(\n",
    "        \"policy 2\",\n",
    "        **dict(\n",
    "            get_do_nothing_dict(),\n",
    "            **{\"4_RfR 0\": 1, \"4_RfR 1\": 1, \"4_RfR 2\": 1, \"A.5_DikeIncrease 0\": 5}\n",
    "        )\n",
    "    ),\n",
    "    Policy(\n",
    "        \"policy 3\",\n",
    "        **dict(\n",
    "            get_do_nothing_dict(),\n",
    "            **{\"1_RfR 0\": 1, \"2_RfR 1\": 1, \"3_RfR 2\": 1, \"A.3_DikeIncrease 0\": 5}\n",
    "        )\n",
    "    ),\n",
    "]"
   ],
   "id": "1eb7ff31280d3fbe",
   "outputs": [],
   "execution_count": 3
  },
  {
   "metadata": {
    "ExecuteTime": {
     "end_time": "2025-06-17T13:32:07.783166Z",
     "start_time": "2025-06-17T13:31:15.597583Z"
    }
   },
   "cell_type": "code",
   "source": [
    "# pass the policies list to EMA workbench experiment runs #`1`\n",
    "n_scenarios = 50\n",
    "with MultiprocessingEvaluator(dike_model) as evaluator:\n",
    "    results = evaluator.perform_experiments(n_scenarios, policies)\n",
    "\n",
    "experiments, outcomes = results"
   ],
   "id": "f6d25b088d282f47",
   "outputs": [
    {
     "name": "stderr",
     "output_type": "stream",
     "text": [
      "[MainProcess/INFO] pool started with 16 workers\n",
      "[MainProcess/INFO] performing 50 scenarios * 3 policies * 1 model(s) = 150 experiments\n",
      "100%|████████████████████████████████████████| 150/150 [00:06<00:00, 23.20it/s]\n",
      "[MainProcess/INFO] experiments finished\n",
      "[MainProcess/INFO] terminating pool\n"
     ]
    }
   ],
   "execution_count": 5
  },
  {
   "metadata": {
    "ExecuteTime": {
     "end_time": "2025-06-17T13:32:24.011376Z",
     "start_time": "2025-06-17T13:32:17.398179Z"
    }
   },
   "cell_type": "code",
   "source": [
    "from ema_workbench.analysis import prim\n",
    "\n",
    "df = pd.DataFrame(outcomes)\n",
    "df_exp = pd.DataFrame(experiments)\n",
    "x = df_exp\n",
    "y= df['A.2 Total Costs']\n",
    "y= y < 26042749\n",
    "\n",
    "prim_alg = prim.Prim(x, y, threshold=0.8, peel_alpha= 0.1)\n",
    "box1 = prim_alg.find_box()\n",
    "\n",
    "box1.show_tradeoff()\n",
    "plt.show()"
   ],
   "id": "f8a2b0773534b4ba",
   "outputs": [
    {
     "name": "stderr",
     "output_type": "stream",
     "text": [
      "[MainProcess/INFO] column model dropped from analysis because it has only one category\n",
      "[MainProcess/INFO] 150 points remaining, containing 61 cases of interest\n",
      "[MainProcess/INFO] mean: 1.0, mass: 0.2, coverage: 0.4918032786885246, density: 1.0 restricted_dimensions: 5\n"
     ]
    },
    {
     "data": {
      "text/plain": [
       "<Figure size 640x480 with 2 Axes>"
      ],
      "image/png": "[encoded data removed]"
     },
     "metadata": {},
     "output_type": "display_data"
    }
   ],
   "execution_count": 6
  },
  {
   "metadata": {},
   "cell_type": "code",
   "outputs": [],
   "execution_count": null,
   "source": "",
   "id": "df2c24bb86ff19a5"
  }
 ],
 "metadata": {
  "kernelspec": {
   "display_name": "Python 3",
   "language": "python",
   "name": "python3"
  },
  "language_info": {
   "codemirror_mode": {
    "name": "ipython",
    "version": 2
   },
   "file_extension": ".py",
   "mimetype": "text/x-python",
   "name": "python",
   "nbconvert_exporter": "python",
   "pygments_lexer": "ipython2",
   "version": "2.7.6"
  }
 },
 "nbformat": 4,
 "nbformat_minor": 5
}
