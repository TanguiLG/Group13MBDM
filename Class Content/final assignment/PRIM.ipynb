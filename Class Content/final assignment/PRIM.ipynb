{
 "cells": [
  {
   "cell_type": "code",
   "execution_count": null,
   "id": "initial_id",
   "metadata": {
    "collapsed": true
   },
   "outputs": [],
   "source": ""
  },
  {
   "metadata": {},
   "cell_type": "code",
   "outputs": [],
   "execution_count": null,
   "source": [
    "from ema_workbench.analysis import prim\n",
    "\n",
    "df = pd.DataFrame(outcomes)\n",
    "df_exp = pd.DataFrame(experiments)\n",
    "x = df_exp\n",
    "y= df['A.2 Total Costs']\n",
    "y= y < 26042749\n",
    "\n",
    "prim_alg = prim.Prim(x, y, threshold=0.8, peel_alpha= 0.1)\n",
    "box1 = prim_alg.find_box()\n",
    "\n",
    "box1.show_tradeoff()\n",
    "plt.show()"
   ],
   "id": "f8a2b0773534b4ba"
  }
 ],
 "metadata": {
  "kernelspec": {
   "display_name": "Python 3",
   "language": "python",
   "name": "python3"
  },
  "language_info": {
   "codemirror_mode": {
    "name": "ipython",
    "version": 2
   },
   "file_extension": ".py",
   "mimetype": "text/x-python",
   "name": "python",
   "nbconvert_exporter": "python",
   "pygments_lexer": "ipython2",
   "version": "2.7.6"
  }
 },
 "nbformat": 4,
 "nbformat_minor": 5
}
