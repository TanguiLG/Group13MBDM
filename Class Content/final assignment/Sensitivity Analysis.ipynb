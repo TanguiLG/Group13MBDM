{
 "cells": [
  {
   "metadata": {
    "ExecuteTime": {
     "end_time": "2025-06-19T11:38:57.796534Z",
     "start_time": "2025-06-19T11:38:55.009912Z"
    }
   },
   "cell_type": "code",
   "source": [
    "import pandas as pd\n",
    "import networkx as nx\n",
    "import numpy as np\n",
    "import matplotlib.pyplot as plt\n",
    "import seaborn as sns\n",
    "import copy\n",
    "from problem_formulation import get_model_for_problem_formulation\n",
    "from ema_workbench import (\n",
    "    Policy,\n",
    "    ema_logging,\n",
    "    MultiprocessingEvaluator,\n",
    ")"
   ],
   "id": "fb02c895648d63bf",
   "outputs": [],
   "execution_count": 2
  },
  {
   "metadata": {},
   "cell_type": "markdown",
   "source": "We begin by importing all necessary modules for our analysis. As for our other methods, we define our three policies here too.",
   "id": "117ab244eea5916b"
  },
  {
   "metadata": {
    "ExecuteTime": {
     "end_time": "2025-06-19T11:38:58.848645Z",
     "start_time": "2025-06-19T11:38:58.721586Z"
    }
   },
   "cell_type": "code",
   "source": [
    "#importing packages\n",
    "from ema_workbench import (\n",
    " Policy,\n",
    " ema_logging,\n",
    " MultiprocessingEvaluator,\n",
    " ScalarOutcome\n",
    ")\n",
    "\n",
    "import problem_formulation\n",
    "from importlib import reload\n",
    "\n",
    "reload(problem_formulation)  # this is used to reload the problem formulation.py so the changes made there are registered.\n",
    "from problem_formulation import get_model_for_problem_formulation\n",
    "\n",
    "ema_logging.log_to_stderr(ema_logging.INFO)\n",
    "\n",
    "dike_model, planning_steps = get_model_for_problem_formulation(3)\n",
    "\n",
    "import copy\n",
    "\n",
    "#Here we print the uncertainties, levers and outcomes, to check them\n",
    "for unc in dike_model.uncertainties:\n",
    " print(repr(unc))\n",
    "\n",
    "uncertainties = copy.deepcopy(dike_model.uncertainties)\n",
    "for policy in dike_model.levers:\n",
    " print(repr(policy))\n",
    "\n",
    "levers = copy.deepcopy(dike_model.levers)\n",
    "for outcome in dike_model.outcomes:\n",
    " print(repr(outcome))\n",
    "\n",
    "\n",
    "def get_do_nothing_dict():\n",
    " return {l.name: 0 for l in dike_model.levers}\n",
    "\n",
    "\n",
    "#Here the policies for the start analysis are defined\n",
    "policies = [\n",
    " Policy(\n",
    "  \"policy 1\",  #nothing policy\n",
    "  **dict(\n",
    "   get_do_nothing_dict(),\n",
    "  )\n",
    " ),\n",
    " Policy(\n",
    "  \"policy 2\",  # dike increase policy\n",
    "  **dict(\n",
    "   get_do_nothing_dict(),\n",
    "   **{\"A.1_DikeIncrease 0\": 5, \"A.2_DikeIncrease 0\": 5, \"A.3_DikeIncrease 0\": 5, \"A.4_DikeIncrease 0\": 5}\n",
    "  )\n",
    " ),\n",
    " Policy(\n",
    "  \"policy 3\",  #dike increase and room for the river policy\n",
    "  **dict(\n",
    "   get_do_nothing_dict(),\n",
    "   **{\"1_RfR 1\": 1, \"2_RfR 1\": 1, \"3_RfR 1\": 1, \"5_RfR 1\": 1, \"A.1_DikeIncrease 0\": 5, \"A.2_DikeIncrease 0\": 5,\n",
    "      \"A.3_DikeIncrease 0\": 5, \"A.4_DikeIncrease 0\": 5}\n",
    "  )\n",
    " ),\n",
    "]"
   ],
   "id": "8a245edf77751823",
   "outputs": [
    {
     "name": "stdout",
     "output_type": "stream",
     "text": [
      "CategoricalParameter('discount rate 0', [0, 1, 2, 3])\n",
      "CategoricalParameter('discount rate 1', [0, 1, 2, 3])\n",
      "CategoricalParameter('discount rate 2', [0, 1, 2, 3])\n",
      "IntegerParameter('A.0_ID flood wave shape', 0, 132, resolution=None, default=None, variable_name=['A.0_ID flood wave shape'], pff=False)\n",
      "RealParameter('A.1_Bmax', 30, 350, resolution=None, default=None, variable_name=['A.1_Bmax'], pff=False)\n",
      "RealParameter('A.1_pfail', 0, 1, resolution=None, default=None, variable_name=['A.1_pfail'], pff=False)\n",
      "CategoricalParameter('A.1_Brate', [0, 1, 2])\n",
      "RealParameter('A.2_Bmax', 30, 350, resolution=None, default=None, variable_name=['A.2_Bmax'], pff=False)\n",
      "RealParameter('A.2_pfail', 0, 1, resolution=None, default=None, variable_name=['A.2_pfail'], pff=False)\n",
      "CategoricalParameter('A.2_Brate', [0, 1, 2])\n",
      "RealParameter('A.3_Bmax', 30, 350, resolution=None, default=None, variable_name=['A.3_Bmax'], pff=False)\n",
      "RealParameter('A.3_pfail', 0, 1, resolution=None, default=None, variable_name=['A.3_pfail'], pff=False)\n",
      "CategoricalParameter('A.3_Brate', [0, 1, 2])\n",
      "RealParameter('A.4_Bmax', 30, 350, resolution=None, default=None, variable_name=['A.4_Bmax'], pff=False)\n",
      "RealParameter('A.4_pfail', 0, 1, resolution=None, default=None, variable_name=['A.4_pfail'], pff=False)\n",
      "CategoricalParameter('A.4_Brate', [0, 1, 2])\n",
      "RealParameter('A.5_Bmax', 30, 350, resolution=None, default=None, variable_name=['A.5_Bmax'], pff=False)\n",
      "RealParameter('A.5_pfail', 0, 1, resolution=None, default=None, variable_name=['A.5_pfail'], pff=False)\n",
      "CategoricalParameter('A.5_Brate', [0, 1, 2])\n",
      "IntegerParameter('0_RfR 0', 0, 1, resolution=None, default=None, variable_name=['0_RfR 0'], pff=False)\n",
      "IntegerParameter('0_RfR 1', 0, 1, resolution=None, default=None, variable_name=['0_RfR 1'], pff=False)\n",
      "IntegerParameter('0_RfR 2', 0, 1, resolution=None, default=None, variable_name=['0_RfR 2'], pff=False)\n",
      "IntegerParameter('1_RfR 0', 0, 1, resolution=None, default=None, variable_name=['1_RfR 0'], pff=False)\n",
      "IntegerParameter('1_RfR 1', 0, 1, resolution=None, default=None, variable_name=['1_RfR 1'], pff=False)\n",
      "IntegerParameter('1_RfR 2', 0, 1, resolution=None, default=None, variable_name=['1_RfR 2'], pff=False)\n",
      "IntegerParameter('2_RfR 0', 0, 1, resolution=None, default=None, variable_name=['2_RfR 0'], pff=False)\n",
      "IntegerParameter('2_RfR 1', 0, 1, resolution=None, default=None, variable_name=['2_RfR 1'], pff=False)\n",
      "IntegerParameter('2_RfR 2', 0, 1, resolution=None, default=None, variable_name=['2_RfR 2'], pff=False)\n",
      "IntegerParameter('3_RfR 0', 0, 1, resolution=None, default=None, variable_name=['3_RfR 0'], pff=False)\n",
      "IntegerParameter('3_RfR 1', 0, 1, resolution=None, default=None, variable_name=['3_RfR 1'], pff=False)\n",
      "IntegerParameter('3_RfR 2', 0, 1, resolution=None, default=None, variable_name=['3_RfR 2'], pff=False)\n",
      "IntegerParameter('4_RfR 0', 0, 1, resolution=None, default=None, variable_name=['4_RfR 0'], pff=False)\n",
      "IntegerParameter('4_RfR 1', 0, 1, resolution=None, default=None, variable_name=['4_RfR 1'], pff=False)\n",
      "IntegerParameter('4_RfR 2', 0, 1, resolution=None, default=None, variable_name=['4_RfR 2'], pff=False)\n",
      "IntegerParameter('EWS_DaysToThreat', 0, 4, resolution=None, default=None, variable_name=['EWS_DaysToThreat'], pff=False)\n",
      "IntegerParameter('A.1_DikeIncrease 0', 0, 10, resolution=None, default=None, variable_name=['A.1_DikeIncrease 0'], pff=False)\n",
      "IntegerParameter('A.1_DikeIncrease 1', 0, 10, resolution=None, default=None, variable_name=['A.1_DikeIncrease 1'], pff=False)\n",
      "IntegerParameter('A.1_DikeIncrease 2', 0, 10, resolution=None, default=None, variable_name=['A.1_DikeIncrease 2'], pff=False)\n",
      "IntegerParameter('A.2_DikeIncrease 0', 0, 10, resolution=None, default=None, variable_name=['A.2_DikeIncrease 0'], pff=False)\n",
      "IntegerParameter('A.2_DikeIncrease 1', 0, 10, resolution=None, default=None, variable_name=['A.2_DikeIncrease 1'], pff=False)\n",
      "IntegerParameter('A.2_DikeIncrease 2', 0, 10, resolution=None, default=None, variable_name=['A.2_DikeIncrease 2'], pff=False)\n",
      "IntegerParameter('A.3_DikeIncrease 0', 0, 10, resolution=None, default=None, variable_name=['A.3_DikeIncrease 0'], pff=False)\n",
      "IntegerParameter('A.3_DikeIncrease 1', 0, 10, resolution=None, default=None, variable_name=['A.3_DikeIncrease 1'], pff=False)\n",
      "IntegerParameter('A.3_DikeIncrease 2', 0, 10, resolution=None, default=None, variable_name=['A.3_DikeIncrease 2'], pff=False)\n",
      "IntegerParameter('A.4_DikeIncrease 0', 0, 10, resolution=None, default=None, variable_name=['A.4_DikeIncrease 0'], pff=False)\n",
      "IntegerParameter('A.4_DikeIncrease 1', 0, 10, resolution=None, default=None, variable_name=['A.4_DikeIncrease 1'], pff=False)\n",
      "IntegerParameter('A.4_DikeIncrease 2', 0, 10, resolution=None, default=None, variable_name=['A.4_DikeIncrease 2'], pff=False)\n",
      "IntegerParameter('A.5_DikeIncrease 0', 0, 10, resolution=None, default=None, variable_name=['A.5_DikeIncrease 0'], pff=False)\n",
      "IntegerParameter('A.5_DikeIncrease 1', 0, 10, resolution=None, default=None, variable_name=['A.5_DikeIncrease 1'], pff=False)\n",
      "IntegerParameter('A.5_DikeIncrease 2', 0, 10, resolution=None, default=None, variable_name=['A.5_DikeIncrease 2'], pff=False)\n",
      "ScalarOutcome('A.5 Total Costs', variable_name=('A.5_Expected Annual Damage', 'A.5_Dike Investment Costs'), function=<function sum_over at 0x000001A94331DC60>)\n",
      "ScalarOutcome('A.5_Expected Number of Deaths', variable_name=('A.5_Expected Number of Deaths',), function=<function sum_over at 0x000001A94331DC60>)\n",
      "ScalarOutcome('RfR Total Costs', variable_name=('RfR Total Costs',), function=<function sum_over at 0x000001A94331DC60>)\n",
      "ScalarOutcome('Expected Evacuation Costs', variable_name=('Expected Evacuation Costs',), function=<function sum_over at 0x000001A94331DC60>)\n"
     ]
    }
   ],
   "execution_count": 4
  },
  {
   "metadata": {},
   "cell_type": "markdown",
   "source": "Once the preliminary steps complete, we can set up Sobol using the SAlib library. We run our model once again, this time adding an uncertainty sampling method. Once the model is ran, we can set up Sobol for our two outcomes of interests: Deaths and Total Costs for dike ring 5.",
   "id": "dbbf7c5db39a54bb"
  },
  {
   "metadata": {
    "ExecuteTime": {
     "end_time": "2025-06-19T13:13:29.160200Z",
     "start_time": "2025-06-19T11:38:58.864700Z"
    }
   },
   "cell_type": "code",
   "source": [
    "from SALib.analyze import sobol\n",
    "from ema_workbench import Samplers\n",
    "from ema_workbench.em_framework.salib_samplers import get_SALib_problem\n",
    "# pass the policies list to EMA workbench experiment runs #`1`\n",
    "n_scenarios = 1000\n",
    "with MultiprocessingEvaluator(dike_model) as evaluator:\n",
    "    results = evaluator.perform_experiments(n_scenarios, policies,  uncertainty_sampling=Samplers.SOBOL)\n",
    "\n",
    "experiments, outcomes = results\n",
    "problem = get_SALib_problem(dike_model.uncertainties)\n",
    "Si_Deaths = sobol.analyze(problem, outcomes['A.5_Expected Number of Deaths'], calc_second_order=True, print_to_console=False)\n",
    "Si_Costs = sobol.analyze(problem, outcomes['A.5 Total Costs'], calc_second_order=True, print_to_console=False)"
   ],
   "id": "a9e89f601ac7afd0",
   "outputs": [
    {
     "name": "stderr",
     "output_type": "stream",
     "text": [
      "[MainProcess/INFO] pool started with 16 workers\n",
      "C:\\Users\\tangu\\PycharmProjects\\MBDB\\.venv\\lib\\site-packages\\scipy\\stats\\_qmc.py:993: UserWarning: The balance properties of Sobol' points require n to be a power of 2.\n",
      "  sample = self._random(n, workers=workers)\n",
      "[MainProcess/INFO] performing 40000 scenarios * 3 policies * 1 model(s) = 120000 experiments\n",
      "100%|████████████████████████████████| 120000/120000 [1:33:50<00:00, 21.31it/s]\n",
      "[MainProcess/INFO] experiments finished\n",
      "[MainProcess/INFO] terminating pool\n",
      "C:\\Users\\tangu\\PycharmProjects\\MBDB\\.venv\\lib\\site-packages\\SALib\\util\\__init__.py:274: FutureWarning: unique with argument that is not not a Series, Index, ExtensionArray, or np.ndarray is deprecated and will raise in a future version.\n",
      "  names = list(pd.unique(groups))\n"
     ]
    }
   ],
   "execution_count": 5
  },
  {
   "metadata": {},
   "cell_type": "markdown",
   "source": "We can finally plot our sensitivity analysis, first for deaths, then for costs.",
   "id": "1d707d0898e2fade"
  },
  {
   "metadata": {
    "ExecuteTime": {
     "end_time": "2025-06-19T13:13:29.604777Z",
     "start_time": "2025-06-19T13:13:29.267176Z"
    }
   },
   "cell_type": "code",
   "source": [
    "scores_filtered = {k: Si_Deaths[k] for k in [\"ST\", \"ST_conf\", \"S1\", \"S1_conf\"]}\n",
    "Si_df = pd.DataFrame(scores_filtered, index=problem[\"names\"])\n",
    "\n",
    "sns.set_style(\"white\")\n",
    "fig, ax = plt.subplots(1)\n",
    "\n",
    "indices = Si_df[[\"S1\", \"ST\"]]\n",
    "err = Si_df[[\"S1_conf\", \"ST_conf\"]]\n",
    "\n",
    "indices.plot.bar(yerr=err.values.T, ax=ax)\n",
    "fig.set_size_inches(8, 6)\n",
    "fig.subplots_adjust(bottom=0.3)\n",
    "plt.show()"
   ],
   "id": "f32e15b1491495cc",
   "outputs": [
    {
     "data": {
      "text/plain": [
       "<Figure size 800x600 with 1 Axes>"
      ],
      "image/png": "[encoded data removed]"
     },
     "metadata": {},
     "output_type": "display_data"
    }
   ],
   "execution_count": 6
  },
  {
   "metadata": {
    "ExecuteTime": {
     "end_time": "2025-06-19T13:15:00.552711Z",
     "start_time": "2025-06-19T13:15:00.527554Z"
    }
   },
   "cell_type": "code",
   "source": "Si_df.to_csv('Si_Deaths.csv')",
   "id": "407b4b1202a8835d",
   "outputs": [],
   "execution_count": 8
  },
  {
   "metadata": {
    "ExecuteTime": {
     "end_time": "2025-06-19T13:13:29.763442Z",
     "start_time": "2025-06-19T13:13:29.620736Z"
    }
   },
   "cell_type": "code",
   "source": [
    "scores_filtered = {k: Si_Costs[k] for k in [\"ST\", \"ST_conf\", \"S1\", \"S1_conf\"]}\n",
    "Si_df = pd.DataFrame(scores_filtered, index=problem[\"names\"])\n",
    "\n",
    "sns.set_style(\"white\")\n",
    "fig, ax = plt.subplots(1)\n",
    "\n",
    "indices = Si_df[[\"S1\", \"ST\"]]\n",
    "err = Si_df[[\"S1_conf\", \"ST_conf\"]]\n",
    "\n",
    "indices.plot.bar(yerr=err.values.T, ax=ax)\n",
    "fig.set_size_inches(8, 6)\n",
    "fig.subplots_adjust(bottom=0.3)\n",
    "plt.show()"
   ],
   "id": "7d941896cdb326e0",
   "outputs": [
    {
     "data": {
      "text/plain": [
       "<Figure size 800x600 with 1 Axes>"
      ],
      "image/png": "[encoded data removed]"
     },
     "metadata": {},
     "output_type": "display_data"
    }
   ],
   "execution_count": 7
  }
 ],
 "metadata": {
  "kernelspec": {
   "display_name": "Python 3",
   "language": "python",
   "name": "python3"
  },
  "language_info": {
   "codemirror_mode": {
    "name": "ipython",
    "version": 2
   },
   "file_extension": ".py",
   "mimetype": "text/x-python",
   "name": "python",
   "nbconvert_exporter": "python",
   "pygments_lexer": "ipython2",
   "version": "2.7.6"
  }
 },
 "nbformat": 4,
 "nbformat_minor": 5
}
